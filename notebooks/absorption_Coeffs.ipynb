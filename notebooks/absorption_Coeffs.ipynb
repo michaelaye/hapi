{
 "cells": [
  {
   "cell_type": "code",
   "execution_count": 1,
   "metadata": {
    "collapsed": true
   },
   "outputs": [],
   "source": [
    "%matplotlib inline"
   ]
  },
  {
   "cell_type": "code",
   "execution_count": 2,
   "metadata": {
    "collapsed": true
   },
   "outputs": [],
   "source": [
    "import matplotlib.pyplot as plt"
   ]
  },
  {
   "cell_type": "code",
   "execution_count": 3,
   "metadata": {
    "collapsed": true
   },
   "outputs": [],
   "source": [
    "waves = np.arange(0.8, 1.1, 0.005)"
   ]
  },
  {
   "cell_type": "code",
   "execution_count": 4,
   "metadata": {
    "collapsed": false
   },
   "outputs": [
    {
     "data": {
      "text/plain": [
       "(61,)"
      ]
     },
     "execution_count": 4,
     "metadata": {},
     "output_type": "execute_result"
    }
   ],
   "source": [
    "waves.shape"
   ]
  },
  {
   "cell_type": "code",
   "execution_count": 5,
   "metadata": {
    "collapsed": true
   },
   "outputs": [],
   "source": [
    "wavenos = 1e4/waves"
   ]
  },
  {
   "cell_type": "code",
   "execution_count": 6,
   "metadata": {
    "collapsed": false
   },
   "outputs": [
    {
     "data": {
      "text/plain": [
       "array([ 12500.        ,  12422.36024845,  12345.67901235,  12269.93865031,\n",
       "        12195.12195122,  12121.21212121,  12048.19277108,  11976.04790419,\n",
       "        11904.76190476,  11834.31952663,  11764.70588235,  11695.90643275,\n",
       "        11627.90697674,  11560.69364162,  11494.25287356,  11428.57142857,\n",
       "        11363.63636364,  11299.43502825,  11235.95505618,  11173.18435754,\n",
       "        11111.11111111,  11049.72375691,  10989.01098901,  10928.96174863,\n",
       "        10869.56521739,  10810.81081081,  10752.68817204,  10695.18716578,\n",
       "        10638.29787234,  10582.01058201,  10526.31578947,  10471.20418848,\n",
       "        10416.66666667,  10362.69430052,  10309.27835052,  10256.41025641,\n",
       "        10204.08163265,  10152.28426396,  10101.01010101,  10050.25125628,\n",
       "        10000.        ,   9950.24875622,   9900.99009901,   9852.21674877,\n",
       "         9803.92156863,   9756.09756098,   9708.73786408,   9661.83574879,\n",
       "         9615.38461538,   9569.37799043,   9523.80952381,   9478.67298578,\n",
       "         9433.96226415,   9389.6713615 ,   9345.79439252,   9302.3255814 ,\n",
       "         9259.25925926,   9216.58986175,   9174.31192661,   9132.42009132,\n",
       "         9090.90909091])"
      ]
     },
     "execution_count": 6,
     "metadata": {},
     "output_type": "execute_result"
    }
   ],
   "source": [
    "wavenos"
   ]
  },
  {
   "cell_type": "code",
   "execution_count": 7,
   "metadata": {
    "collapsed": false
   },
   "outputs": [
    {
     "name": "stdout",
     "output_type": "stream",
     "text": [
      "HAPI VERSION: 1.0\n"
     ]
    }
   ],
   "source": [
    "import hapi"
   ]
  },
  {
   "cell_type": "code",
   "execution_count": 8,
   "metadata": {
    "collapsed": false
   },
   "outputs": [
    {
     "name": "stdout",
     "output_type": "stream",
     "text": [
      "Using hapi_db\n",
      "\n",
      "CO2\n",
      "                     Lines parsed: 4066\n"
     ]
    }
   ],
   "source": [
    "hapi.db_begin('hapi_db')"
   ]
  },
  {
   "cell_type": "code",
   "execution_count": 9,
   "metadata": {
    "collapsed": false
   },
   "outputs": [
    {
     "name": "stdout",
     "output_type": "stream",
     "text": [
      "BEGIN DOWNLOAD: CO2\n",
      "  65536 bytes written to hapi_db/CO2.data\n",
      "  65536 bytes written to hapi_db/CO2.data\n",
      "  65536 bytes written to hapi_db/CO2.data\n",
      "  65536 bytes written to hapi_db/CO2.data\n",
      "  65536 bytes written to hapi_db/CO2.data\n",
      "  65536 bytes written to hapi_db/CO2.data\n",
      "  65536 bytes written to hapi_db/CO2.data\n",
      "  65536 bytes written to hapi_db/CO2.data\n",
      "  65536 bytes written to hapi_db/CO2.data\n",
      "  65536 bytes written to hapi_db/CO2.data\n",
      "  65536 bytes written to hapi_db/CO2.data\n",
      "Header written to hapi_db/CO2.header\n",
      "END DOWNLOAD\n",
      "                     Lines parsed: 4066\n",
      "PROCESSED\n"
     ]
    }
   ],
   "source": [
    "nu_min = 1e7/1150\n",
    "nu_max = 1e7/800\n",
    "hapi.fetch('CO2', 2, 1, nu_min, nu_max)"
   ]
  },
  {
   "cell_type": "code",
   "execution_count": 10,
   "metadata": {
    "collapsed": false
   },
   "outputs": [],
   "source": [
    "# %%timeit \n",
    "# nu, coeff_co2 = hapi.absorptionCoefficient_Voigt(SourceTables='CO2',\n",
    "#                                                  Environment={'p': 90, \n",
    "#                                                               'T': 700},\n",
    "#                                                  GammaL='gamma_self')"
   ]
  },
  {
   "cell_type": "code",
   "execution_count": 11,
   "metadata": {
    "collapsed": false
   },
   "outputs": [],
   "source": [
    "# %%timeit\n",
    "# nu, coeff_co2 = hapi.absorptionCoefficient_Voigt(SourceTables='CO2',\n",
    "#                                                  Environment={'p': 90,\n",
    "#                                                               'T': 700},\n",
    "#                                                  OmegaStep=0.1,\n",
    "#                                                  GammaL='gamma_self')"
   ]
  },
  {
   "cell_type": "code",
   "execution_count": 12,
   "metadata": {
    "collapsed": false
   },
   "outputs": [],
   "source": [
    "# %%timeit\n",
    "# nu, coeff_co2 = hapi.absorptionCoefficient_Voigt(SourceTables='CO2',\n",
    "#                                                  Environment={'p': 90,\n",
    "#                                                               'T': 700},\n",
    "#                                                  OmegaGrid=wavenos,\n",
    "#                                                  GammaL='gamma_self')"
   ]
  },
  {
   "cell_type": "markdown",
   "metadata": {},
   "source": [
    "# Warning!\n",
    "The %timeit (for 1-liners) and %%timeit (for several lines of code) ipython magics (that's what they call %-functions) don't actually store the results for memory protection reasons (imagine each of your tests create a lot of data), so you have to run it without the timing test to actually get to the result.\n",
    "\n",
    "Also, even so the wavenumber min delta required would have been around 40, anything larger than 0.1 wavenumbers and the code barks that that would lead to declining accuracy.\n",
    "\n",
    "## Using OmegaGrid\n",
    "Interestingly, using OmegaGrid, it does not bark, even so the deltas are between 40 and 70 wavenumbers."
   ]
  },
  {
   "cell_type": "code",
   "execution_count": 13,
   "metadata": {
    "collapsed": false
   },
   "outputs": [],
   "source": [
    "nu, coeff_co2 = hapi.absorptionCoefficient_Voigt(SourceTables='CO2',\n",
    "                                                 Environment={'p': 90,\n",
    "                                                              'T': 700},\n",
    "                                                 OmegaGrid=wavenos,\n",
    "#                                                  OmegaRange=[wavenos.min(),\n",
    "#                                                              wavenos.max()],\n",
    "#                                                  OmegaStep=0.1,\n",
    "                                                 GammaL='gamma_self')"
   ]
  },
  {
   "cell_type": "code",
   "execution_count": 14,
   "metadata": {
    "collapsed": false
   },
   "outputs": [
    {
     "name": "stdout",
     "output_type": "stream",
     "text": [
      "[  9090.90909091   9132.42009132   9174.31192661   9216.58986175\n",
      "   9259.25925926   9302.3255814    9345.79439252   9389.6713615\n",
      "   9433.96226415   9478.67298578   9523.80952381   9569.37799043\n",
      "   9615.38461538   9661.83574879   9708.73786408   9756.09756098\n",
      "   9803.92156863   9852.21674877   9900.99009901   9950.24875622  10000.\n",
      "  10050.25125628  10101.01010101  10152.28426396  10204.08163265\n",
      "  10256.41025641  10309.27835052  10362.69430052  10416.66666667\n",
      "  10471.20418848  10526.31578947  10582.01058201  10638.29787234\n",
      "  10695.18716578  10752.68817204  10810.81081081  10869.56521739\n",
      "  10928.96174863  10989.01098901  11049.72375691  11111.11111111\n",
      "  11173.18435754  11235.95505618  11299.43502825  11363.63636364\n",
      "  11428.57142857  11494.25287356  11560.69364162  11627.90697674\n",
      "  11695.90643275  11764.70588235  11834.31952663  11904.76190476\n",
      "  11976.04790419  12048.19277108  12121.21212121  12195.12195122\n",
      "  12269.93865031  12345.67901235  12422.36024845  12500.        ]\n"
     ]
    }
   ],
   "source": [
    "print(wavenos[::-1])"
   ]
  },
  {
   "cell_type": "code",
   "execution_count": 15,
   "metadata": {
    "collapsed": true
   },
   "outputs": [],
   "source": [
    "waves_nu = 1e4/nu"
   ]
  },
  {
   "cell_type": "markdown",
   "metadata": {},
   "source": [
    "### wavelengths vs wavenumbers issue\n",
    "I understand it now. When one calculates the wavenumbers from wavelengths and does *NOT* invert them in sequence and provides it to the coeff calculator, the confusing part is that it returns things in increasing wavenumber order.\n",
    "\n",
    "This means, if I plot the result over un-inverted wavelengths, it's wrong! One has to invert the wavelengths, now that the results are sorted by increasing wavenumber. This is no Python-ism but a decision of the HAPI API, probably based on old calculation formulas that were used to start at the lowest wavenumber. See below how to get it correct and consistent."
   ]
  },
  {
   "cell_type": "code",
   "execution_count": 16,
   "metadata": {
    "collapsed": false
   },
   "outputs": [
    {
     "data": {
      "text/plain": [
       "[<matplotlib.lines.Line2D at 0x1127d87d0>]"
      ]
     },
     "execution_count": 16,
     "metadata": {},
     "output_type": "execute_result"
    },
    {
     "data": {
      "image/png": "[encoded data removed]",
      "text/plain": [
       "<matplotlib.figure.Figure at 0x111f99c50>"
      ]
     },
     "metadata": {},
     "output_type": "display_data"
    }
   ],
   "source": [
    "plt.semilogy(waves[::-1], coeff_co2)"
   ]
  },
  {
   "cell_type": "code",
   "execution_count": 17,
   "metadata": {
    "collapsed": false
   },
   "outputs": [
    {
     "data": {
      "text/plain": [
       "[<matplotlib.lines.Line2D at 0x1155bf0d0>]"
      ]
     },
     "execution_count": 17,
     "metadata": {},
     "output_type": "execute_result"
    },
    {
     "data": {
      "image/png": "[encoded data removed]",
      "text/plain": [
       "<matplotlib.figure.Figure at 0x111f59910>"
      ]
     },
     "metadata": {},
     "output_type": "display_data"
    }
   ],
   "source": [
    "plt.semilogy(nu, coeff_co2)"
   ]
  },
  {
   "cell_type": "markdown",
   "metadata": {
    "collapsed": true
   },
   "source": [
    "This strongly looks like 0.005 micron is not enough resolution, the plots looks a lot different then before. I go to 0.001 micron resolution for the following plots:"
   ]
  },
  {
   "cell_type": "code",
   "execution_count": 18,
   "metadata": {
    "collapsed": true
   },
   "outputs": [],
   "source": [
    "waves = np.arange(0.8, 1.1, 0.001)"
   ]
  },
  {
   "cell_type": "code",
   "execution_count": 19,
   "metadata": {
    "collapsed": true
   },
   "outputs": [],
   "source": [
    "wavenos = 1e4/waves"
   ]
  },
  {
   "cell_type": "code",
   "execution_count": 20,
   "metadata": {
    "collapsed": true
   },
   "outputs": [],
   "source": [
    "nu, coeff_co2 = hapi.absorptionCoefficient_Voigt(SourceTables='CO2',\n",
    "                                                 Environment={'p': 90,\n",
    "                                                              'T': 700},\n",
    "                                                 OmegaGrid=wavenos,\n",
    "                                                 GammaL='gamma_self')"
   ]
  },
  {
   "cell_type": "code",
   "execution_count": 21,
   "metadata": {
    "collapsed": false
   },
   "outputs": [
    {
     "data": {
      "text/plain": [
       "[<matplotlib.lines.Line2D at 0x116294350>]"
      ]
     },
     "execution_count": 21,
     "metadata": {},
     "output_type": "execute_result"
    },
    {
     "data": {
      "image/png": "[encoded data removed]",
      "text/plain": [
       "<matplotlib.figure.Figure at 0x111f99e90>"
      ]
     },
     "metadata": {},
     "output_type": "display_data"
    }
   ],
   "source": [
    "plt.semilogy(waves[::-1], coeff_co2)"
   ]
  },
  {
   "cell_type": "code",
   "execution_count": 22,
   "metadata": {
    "collapsed": false
   },
   "outputs": [
    {
     "data": {
      "text/plain": [
       "[<matplotlib.lines.Line2D at 0x1164f1290>]"
      ]
     },
     "execution_count": 22,
     "metadata": {},
     "output_type": "execute_result"
    },
    {
     "data": {
      "image/png": "[encoded data removed]",
      "text/plain": [
       "<matplotlib.figure.Figure at 0x1162ef250>"
      ]
     },
     "metadata": {},
     "output_type": "display_data"
    }
   ],
   "source": [
    "plt.semilogy(nu, coeff_co2)"
   ]
  },
  {
   "cell_type": "markdown",
   "metadata": {},
   "source": [
    "I changed x-axis to use `nu` instead of wavenumbers, just to see that the results are consistent. The nice thing is when using `OmegaGrid` as a parameter, the `nu` array really contains only the numbers that were provided in the first place."
   ]
  },
  {
   "cell_type": "code",
   "execution_count": null,
   "metadata": {
    "collapsed": true
   },
   "outputs": [],
   "source": []
  }
 ],
 "metadata": {
  "kernelspec": {
   "display_name": "Python 2",
   "language": "python",
   "name": "python2"
  },
  "language_info": {
   "codemirror_mode": {
    "name": "ipython",
    "version": 2
   },
   "file_extension": ".py",
   "mimetype": "text/x-python",
   "name": "python",
   "nbconvert_exporter": "python",
   "pygments_lexer": "ipython2",
   "version": "2.7.10"
  }
 },
 "nbformat": 4,
 "nbformat_minor": 0
}
